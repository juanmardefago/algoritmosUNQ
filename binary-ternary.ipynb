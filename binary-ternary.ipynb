{
 "cells": [
  {
   "cell_type": "code",
   "execution_count": 1,
   "metadata": {},
   "outputs": [],
   "source": [
    "import random\n",
    "import timeit\n",
    "import matplotlib.pyplot as plotter"
   ]
  },
  {
   "cell_type": "code",
   "execution_count": 2,
   "metadata": {},
   "outputs": [],
   "source": [
    "def binarySearch(collection, element):\n",
    "   \n",
    "    size = len(collection)\n",
    "    \n",
    "    if size == 0 or element < collection[0] or element > collection[-1]:\n",
    "        return -1\n",
    "    \n",
    "    # using a builtin function for this case shouldn't impact performance because it's only used on a small list\n",
    "    if size < 2 and element in collection:\n",
    "        result = collection.index(element)\n",
    "        return result\n",
    "    \n",
    "    # Precalculating the floor division to avoid having to re-calculate it\n",
    "    splitPoint = size//2\n",
    "    \n",
    "    firstCollection = collection[0:splitPoint]\n",
    "    secondCollection = collection[splitPoint:size]\n",
    "    \n",
    "    if element <= firstCollection[-1]:\n",
    "        result = binarySearch(firstCollection, element)\n",
    "    else:\n",
    "        result = splitPoint + binarySearch(secondCollection, element)   \n",
    "    \n",
    "    return result"
   ]
  },
  {
   "cell_type": "code",
   "execution_count": 3,
   "metadata": {},
   "outputs": [],
   "source": [
    "def ternarySearch(collection, element):\n",
    "   \n",
    "    size = len(collection)\n",
    "    \n",
    "    if size == 0 or element < collection[0] or element > collection[-1]:\n",
    "        return -1\n",
    "    # using a builtin function for this case shouldn't impact performance because it's only used on a small list\n",
    "    if size < 3 and element in collection:\n",
    "        result = collection.index(element)\n",
    "        return result\n",
    "    \n",
    "    # Precalculating the floor division to avoid having to re-calculate it\n",
    "    baseSplitPoint = size//3\n",
    "    \n",
    "    firstCollection = collection[0:baseSplitPoint]\n",
    "    secondCollection = collection[baseSplitPoint:baseSplitPoint*2]\n",
    "    thirdCollection = collection[baseSplitPoint*2:size]\n",
    "    \n",
    "    if element <= firstCollection[-1]:\n",
    "        result = ternarySearch(firstCollection, element)\n",
    "    elif element <= secondCollection[-1]:\n",
    "        result = baseSplitPoint + ternarySearch(secondCollection, element)\n",
    "    else:\n",
    "        result = baseSplitPoint*2 + ternarySearch(thirdCollection, element)   \n",
    "    \n",
    "    return result"
   ]
  },
  {
   "cell_type": "code",
   "execution_count": 7,
   "metadata": {},
   "outputs": [],
   "source": [
    "minNumber = 1\n",
    "maxNumber = 10000\n",
    "iterations = 1000 \n",
    "step = 100\n",
    "\n",
    "binaryAverages = list()\n",
    "ternaryAverages = list()\n",
    "\n",
    "for n in range(minNumber, maxNumber, step):\n",
    "    binaryIterationsAccumulator = 0\n",
    "    ternaryIterationsAccumulator = 0\n",
    "\n",
    "    for i in range(1, iterations):\n",
    "        listN = list(range(1, n))\n",
    "        \n",
    "        randomElement = random.randint(1, n)\n",
    "        \n",
    "        binaryIterationsAccumulator += timeit.timeit(lambda: binarySearch(listN, randomElement), number = 1)\n",
    "        ternaryIterationsAccumulator += timeit.timeit(lambda: ternarySearch(listN, randomElement), number = 1)\n",
    "        \n",
    "    binaryAverageTime = binaryIterationsAccumulator / iterations\n",
    "    ternaryAverageTime = ternaryIterationsAccumulator / iterations\n",
    "        \n",
    "    binaryAverages.append(binaryAverageTime)\n",
    "    ternaryAverages.append(ternaryAverageTime)        "
   ]
  },
  {
   "cell_type": "code",
   "execution_count": 8,
   "metadata": {},
   "outputs": [
    {
     "data": {
      "text/plain": [
       "<matplotlib.legend.Legend at 0x7f1019fa3310>"
      ]
     },
     "execution_count": 8,
     "metadata": {},
     "output_type": "execute_result"
    },
    {
     "data": {
      "image/png": "[encoded data removed]",
      "text/plain": [
       "<Figure size 432x288 with 1 Axes>"
      ]
     },
     "metadata": {
      "needs_background": "light"
     },
     "output_type": "display_data"
    }
   ],
   "source": [
    "x = range(minNumber, maxNumber, step)\n",
    "plotter.xlabel('List size (n)')\n",
    "plotter.ylabel('Average time')\n",
    "\n",
    "plotter.plot(x, binaryAverages, label = 'Binary search')\n",
    "plotter.plot(x, ternaryAverages, label = 'Ternary search')\n",
    "\n",
    "plotter.legend()"
   ]
  },
  {
   "cell_type": "code",
   "execution_count": null,
   "metadata": {},
   "outputs": [],
   "source": []
  },
  {
   "cell_type": "code",
   "execution_count": null,
   "metadata": {},
   "outputs": [],
   "source": []
  }
 ],
 "metadata": {
  "kernelspec": {
   "display_name": "Python 3",
   "language": "python",
   "name": "python3"
  },
  "language_info": {
   "codemirror_mode": {
    "name": "ipython",
    "version": 3
   },
   "file_extension": ".py",
   "mimetype": "text/x-python",
   "name": "python",
   "nbconvert_exporter": "python",
   "pygments_lexer": "ipython3",
   "version": "3.8.2"
  }
 },
 "nbformat": 4,
 "nbformat_minor": 4
}
